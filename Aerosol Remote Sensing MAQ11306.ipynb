{
 "cells": [
  {
   "cell_type": "markdown",
   "metadata": {
    "slideshow": {
     "slide_type": "slide"
    }
   },
   "source": [
    "# Aerosol Remote Sensing\n",
    "------------"
   ]
  },
  {
   "cell_type": "markdown",
   "metadata": {
    "slideshow": {
     "slide_type": "fragment"
    }
   },
   "source": [
    "## Maarten Krol, Michiel van der Molen, Wageningen University, August 2019"
   ]
  },
  {
   "cell_type": "markdown",
   "metadata": {},
   "source": [
    "## 1. Introduction\n",
    "\n",
    "In the course lectures, you have learned about the presence of aerosols in the atmosphere. Aerosols are natural and man-made particles floating in the atmosphere. They are much larger than single air molecules. Sea-salt and dust are examples of naturally occurring aerosols. These aerosols become airborne mostly as a result of wind action on ocean and desert surfaces and are normally quite large (r > 1 μm). Smaller aerosols (r < 1 μm) are either formed in the atmosphere itself due to condensation of non-volatile gases, or directly emitted, e.g. due to combustion processes. Examples of gases that form aerosols are nitric and sulfuric acid, and oxidation products of organic material. These smaller aerosols have an important man-made contribution, since nitric acid and sulphuric acid are products of emissions of NO and SO$_2$. These aerosol precursor gases are released during combustion processes (cars, factories, ..). Another important source of aerosols is biomass burning, which emits large amounts of carbon (black carbon, black smoke, or soot). Also, diesel engines are important emitters of black carbon. In heavily populated and industrial areas, like the Netherlands or the Po-valley, the aerosol burdens are so high that they pose a threat to human health. Aerosols may be toxic, acid, they obstruct visibility in the atmosphere, cause adverse health effects (COPD, asthma) and pollute and corrode (lime stone) buildings and sculptures. \n",
    "\n",
    "Aerosols may grow due to condensation of gases,  coagulation with other aerosols, and uptake of water vapor. If the relative humidity is high, aerosols may get activated to form cloud droplets. Due to this water uptake, the size of cloud and rain droplets is larger than that of non-activated aerosol.\n",
    "\n",
    "Apart from the toxic nature of aerosols close to the Earth surface, aerosols also have an important effect on climate. As depicted in figure 1, scattering aerosols reflect part of the incoming radiation back to space. In that sense, aerosols have a cooling effect on climate. However, some aerosols like black carbon are highly absorbing. These aerosols are thought to have a warming effect on climate, since they trap solar energy. Finally, aerosols are precursors of clouds and rain droplets. A change in the composition and abundance of aerosols may therefore influence rainfall and the lifetime and nature of clouds (longer living and more reflective). These are important indirect effects of aerosols. "
   ]
  },
  {
   "cell_type": "markdown",
   "metadata": {},
   "source": [
    "<figure>\n",
    "  <img src=\"rs3.png\">\n",
    "  <figcaption><i>Figure 1: The radiation balance of the atmosphere for solar (left) and terrestrial (right) radiation.</i></figcaption>\n",
    "</figure>"
   ]
  },
  {
   "cell_type": "markdown",
   "metadata": {
    "slideshow": {
     "slide_type": "slide"
    }
   },
   "source": [
    "Plenty reasons to want to know how much aerosol is in the atmosphere and how this varies over time. Aerosol affects the visibility in the atmosphere. Apparently, aerosol interact with visibible radiation emitted by the sun. This is an undesired effect of the presence of aerosol. But... could we use it to quantify how much aerosol is present in the atmosphere???\n",
    "\n",
    "If we could use the interaction between radiation and aerosol to quantify aerosol concentrations, this would be an advantage over ground based measurements, which are often difficult and expensive to do and they are only representative for a small area around the location of measurements. With radiation, the measurements could be done over a longer path, making the measurement representative over a longer path. Such methods are called Remote Sensing, because the object of interest is characterised from a distance. \n",
    "\n",
    "The Aerosol practical is based on the principle learning-by-doing. We will first study how much radiation is emitted by the sun, then how much arrives at the Earth's surface. The difference is obviously removed by the atmosphere. How does this change during the day, and what does this tell about the different processes?\n",
    "\n",
    "## 2. Objectives\n",
    "The objective of this practical is to learn to derive how much aerosol are in the atmosphere by analysing radiation measurements collected at the Earth's surface. In remote sensing language, the derivation method is called a retrieval algorithm. For this purpose you need to quantify how radiation interacts with the atmosphere and which part is caused by aerosol. In this sense, developing a retrieval algorithm is an exciting journey!\n",
    "\n",
    "\n",
    "## 3. Solar radiation\n",
    "Remote sensing instruments are often loaded on board of a satellite, which circles the Earth at hundreds of kilometers above the ground, using solar radiation reflected by the Earth's surface. In this practical, we will use a remote sensing technique, where measurements of the solar radiation are made at the Earth's surface itself.\n",
    "\n",
    "Figure 2 shows the spectrum of solar radiation at the top of the atmosphere, before the radiation enters the atmosphere. This spectrum closely resembles the  radiation spectrum of a blackbody at 5800 K, which happens to be the surface temperature of the sun. The temperature of the sun is about 5800 K, and a blackbody of that temperature emits radiation predominantly at wavelengths in the visible range (400-700 nm). Outside this range -in the ultra-violet and near-infrared part of the spectrum- the sun also emits radiation, but relatively less. In contrast, the Earth (temperature about 300 K) emits radiation predominantly in the infrared spectral region around 10 μm (1 μm = 1 micron = 1000 nm).\n"
   ]
  },
  {
   "cell_type": "markdown",
   "metadata": {
    "slideshow": {
     "slide_type": "slide"
    }
   },
   "source": [
    "<figure>\n",
    "  <img src=\"Solar_spectrum_en.svg\">\n",
    "  <figcaption><i>Figure 2. The solar radiation spectrum measured outside the atmosphere and at sea level. Here the units are Watt per square meter per micron wavelength. Source: <a href=\"https://upload.wikimedia.org/wikipedia/commons/e/e7/Solar_spectrum_en.svg\">Wikimedia</a></i></figcaption>\n",
    "</figure>"
   ]
  },
  {
   "cell_type": "markdown",
   "metadata": {},
   "source": [
    "## <font color=\"red\">Exercise 1</font>\n",
    "<font color=\"red\">\n",
    "1.1 At what frequency is the emitted solar radiation at its maximum?<br>\n",
    "       \n",
    "1.2 In what range of frequencies are the ultra-violet, visible and infrared radiation? Express them in nm (i $mu$m = 1000 nm).\n",
    "    \n",
    "1.3 In the visible part of the spectrum, how much of the radiation typically reaches the Earth's surface?\n",
    "</font>\n",
    "\n",
    "\n",
    "## 4 The measurements\n",
    "The information in Fig. 2 is rather coarse, it applies to average midday conditions at a not-specified location, whereas radiation absorption may depend on solar height, time of the day and -- of course -- aerosol abundance. For that reason, you will now inspect how radiation absorption behaves at a single, specific location (De Bilt, NL) at various times of the day.\n",
    "\n",
    "You will analyze measurements made by the Dutch meteorological institute (KNMI, courtesy Piet Stammes) with a SPUV-6 sun photometer. The instrument is equipped with a sun-tracker as depicted in figure 3.\n",
    "\n",
    "<figure>\n",
    "  <img src=\"rs6.png\">\n",
    "  <figcaption> <i>Figure 3: The SPUV instrument with sun-tracker installed at the roof of the Royal Netherlands Meteorological Institute (KNMI) in De Bilt.</i></figcaption>\n",
    "</figure>\n",
    "\n",
    "The instrument measures radiation intensities at the wavelengths 368, 501, 675, 780, 871, and 940 nm (visible and near-infrared). It is important to note that, by aiming the instrument towards the sun, the instrument only detects radiation that travels in the direct beam. It does not measure diffuse radiation, coming from other directions.\n",
    "\n",
    "Run the Python code in the cell below by selecting the cell and typing < SHIFT >+< ENTER >. The code below reads and presents the information for this practical. It is written in a langage called **python**. You do not have to understand it all, but depending on the settings of the widgets, it will present the results in a graph. Try to experiment a bit with the settings.\n",
    "\n",
    "- Before you start, make sure you are running Python 3 (Check the top right of the menu bar). If not: Kernel --> Change kernel --> Python 3.\n",
    "- Under 'filename' select the day closest to your birthday (DATA / 020109.dat.SPUV is for 2002-January 09, this to ensure that different students analyse different days, for later comparison)\n",
    "- Under 'representation' select 'calibrated radiances'.\n",
    "- select all wavelengths available.\n",
    "- if the data are very noisy, choose another day."
   ]
  },
  {
   "cell_type": "code",
   "execution_count": 10,
   "metadata": {},
   "outputs": [
    {
     "data": {
      "application/vnd.jupyter.widget-view+json": {
       "model_id": "4ea0ed69fafc4e518df587ede56041b8",
       "version_major": 2,
       "version_minor": 0
      },
      "text/plain": [
       "interactive(children=(Dropdown(description='filename', options=('DATA/020109.dat.SPUV', 'DATA/020113.dat.SPUV'…"
      ]
     },
     "metadata": {},
     "output_type": "display_data"
    }
   ],
   "source": [
    "%matplotlib inline\n",
    "#load program to plot:\n",
    "from aerosol_prog import *\n",
    "ae = aerosol_prog()"
   ]
  },
  {
   "cell_type": "markdown",
   "metadata": {},
   "source": [
    "The figure shows the irradiance observed by the instrument, which is directed towards the solar radiation as a function of  Day fraction (0.00=00:00h, 0.50=12:00h, 1.00=24:00h). Without atmospheric interaction, the radiances would have a constant value during the day (the maximum value) and jump to 0 $W m^{-2} nm^{-1}$ after sunset, because the Earth blocks the solar radiation. \n",
    "\n",
    "## <font color=\"red\">Exercise 2</font>\n",
    "<font color=\"red\">\n",
    "2.1. Which day are you analysing?<br>\n",
    "\n",
    "2.2. Describe how the shapes of the radiance curves of 368 nm, 501 nm and 670 nm are different. Can you explain this difference? Why do some curves rise fast after sunrise and others only later during the day?<br>\n",
    "\n",
    "2.3. Compare the irradiance at midday with the ones at the top of the atmosphere. Which fraction of radiation is absorbed by the atmosphere at 368 nm, 501 nm and 670 nm? Make a quick comparison between summer and winter days.\n",
    "    \n",
    "2.4. (Do not forget to return to your original day of analysis) At what wavelength is the irradiance the largest at midday? Is this in agreement with figure 2? Can you explain?<br>\n",
    "\n",
    "2.5. What do you think causes the large variations (on some days)? Is the effect on radiance always positive/negative or variable?<br>\n",
    "</font>\n",
    "\n",
    "## 5. Atmosphere radiation interaction: reflection, scattering, absorption\n",
    "    \n",
    "From figure 2 and your results in Exercise 2 it is clear that only a part of the solar radiation that enters the atmosphere penetrates the atmosphere all the way to sea level. First of all, <b>clouds reflect</b> a part of the radiation back to space. As illustrated in figure 1 (left) about 19\\% of the incoming radiation is reflected back by this process. Next, air molecules (N$_2$, O$_2$) scatter solar radiation in a process that is called <b>Rayleigh scattering</b>. Rayleigh scattering occurs when the particles (air molecules) are small compared to the wavelength of the radiation . Indeed, the size of a single molecule (order of nm's) is much smaller than the wavelengths of solar radiation (hundreds of nm's). Rayleigh scattering transforms direct sunlight (what you notice when you look directly into the sun) into diffuse solar radiation (e.g. the daylight under cloudy conditions). Rayleigh scattering is more efficient at the shorter wavelengths (towards the blue/ultra-violet) and this effect causes the sky to be blue (Rayleigh scattering diffuses blue light more than light at longer wavelengths. Blue light thus becomes diffuse and appears to come from all directions, which we perceive as a blue sky). Thirdly, some atmospheric trace gases <b>absorb</b> solar radiation. For instance, ozone in the stratosphere absorbs almost all the harmful solar radiation in the ultraviolet spectral region. But gases like NO$_2$, HCHO, H$_2$O also have absorption bands in the solar spectrum. However, exactly in the visible wavelength range, hardly any gaseous absorption takes place. \n",
    "Finally, there is the action of <b>dust and haze</b>, which you are interested in. These are caused by aerosols that vary in size from about 100 to 10000 nm. These particles are thus in the same order of magnitude as the wavelength of the solar radiation. Interaction of radiation with such particles causes <b>Mie scattering</b>. Mie scattering causes scattering of radiation equally efficient for all wavelengths. This causes fog, clouds and haze to be more or less white. \n",
    "\n",
    "The size of particles, compared to the wavelength of light is very important for the way these particles interact with the radiation as depicted in figure 3. \n",
    "\n",
    "<figure>\n",
    "  <img src=\"Scattering.png\">\n",
    "  <figcaption><i>Figure 3: Interaction of molecules, aerosols and clouds with radiation of different wavelength. For solar radiation, air molecules cause Rayleigh scattering, aerosols Mie scattering, and clouds and rain geometric optics).</i></figcaption>\n",
    "</figure>\n",
    "\n",
    "## <font color=\"red\">Exercise 2 (Continued)</font>\n",
    "<font color=\"red\">\n",
    "2.6 After reading the text above, what are the relevant processes regarding interaction of radiation and the atmosphere?<br>\n",
    "\n",
    "2.7. Revisit exercises 2.2, 2.4 and 2.5. You should be able to answer these questions correctly now.<br>\n",
    "</font>"
   ]
  },
  {
   "cell_type": "markdown",
   "metadata": {
    "slideshow": {
     "slide_type": "slide"
    }
   },
   "source": [
    "## 6. Optical thickness and slant path determine the extinction of radiation along the path\n",
    "\n",
    "In Exercise 1 you have seen that the fraction of radiation at the top of the atmosphere which reaches the Earth's surface is quite variable over the day. Apparently, there are processes which change how much radiation is transferred through the atmosphere. In this section, you will find out how to describe how much radiation is transferred and how to derive the amount of aerosol.\n",
    "\n",
    "<i>Optical depth</i> or <i>optical thickness</i> ($\\tau$) is a convenient quantity to describe how much radiation is absorbed in the atmosphere. The larger the optical thickness, the more radiation is removed from the direct beam of radiation emitted by the sun. The optical thickness expresses how much radiation is removed along a path of fixed length by physical processes like scattering and absorption. It may compared to the color of a liquid. The optical thickness varies with wavelength $\\lambda$ of the radiation, as you experienced by looking at the shapes of the curves at 368, 501 and 670 nm.\n",
    "\n",
    "$\\tau$ = f($\\lambda$, scattering, absorption)\n",
    "\n",
    "In the early morning and late evening, most or all of the radiation is removed from the direct beam. It is unlikely, that the optical thickness of the atmosphere depends on the clock time. But it is possible that the angle of incidence of the solar radiation affects how long the radiation beam travels through the atmospere (See Fig 4). \n",
    "\n",
    "<figure>\n",
    "  <img src=\"rs5.png\">\n",
    "  <figcaption><i>Figure 4: Geometry of the aerosol measurements. TOA = top of atmosphere. The solar zenith angle is denoted as θ$_0$. τ$_λ$ denotes the total optical thickness.</i>}</figcaption>\n",
    "</figure>\n"
   ]
  },
  {
   "cell_type": "markdown",
   "metadata": {},
   "source": [
    "Fig. 4 clearly shows that the atmospheric path length the solar radiation needs to travel along, is much longer at large zenith angles (lower sun) than when the sun is directly overhead. In remote sensing language, this longer path is called the <i>slant path</i>. The slant path length can be expresses as a simple cosine function of the zenith angle:\n",
    "\n",
    "<font size=\"6\">\n",
    "$\\cos (\\theta)$ = $dz$ / $ds$\n",
    "</font>\n",
    "\n",
    "with $dz$ the vertical path and $ds$ the slant path (See fig. 5). "
   ]
  },
  {
   "cell_type": "markdown",
   "metadata": {
    "slideshow": {
     "slide_type": "slide"
    }
   },
   "source": [
    "<figure>\n",
    "  <img src=\"rs9.jpg\">\n",
    "  <figcaption> <i>Figure 5: the relation between a slant path (ds) and a vertical path (dz) through the atmosphere.</i></figcaption>\n",
    "</figure>"
   ]
  },
  {
   "cell_type": "markdown",
   "metadata": {},
   "source": [
    "Rewriting gives:\n",
    "\n",
    "<font size=\"5\">\n",
    "$ds$ = $dz$ $\\cdot$ 1 / $\\cos {\\theta}$\n",
    "</font>\n",
    "\n",
    "The factor $1 / \\cos{\\theta}$ is called <i>(relative) air mass</i> or <i>air mass factor</i> ($m_r$) in remote sensing, because it expresses how more air the radiation beam is exposed to, relative to the amount of air in a vertical path.\n",
    "\n",
    "<font size=\"5\">\n",
    "$m_r$ = $ 1 / \\cos {\\theta}$\n",
    "</font>\n",
    "<br>\n",
    "<font size=\"5\">\n",
    "$ds$ = $dz$ $\\cdot$ $m_r$\n",
    "</font>\n"
   ]
  },
  {
   "cell_type": "markdown",
   "metadata": {
    "slideshow": {
     "slide_type": "slide"
    }
   },
   "source": [
    "## <font color=\"red\">Exercise 3</font>\n",
    "<font color=\"red\">\n",
    "3.1 Make a sketch of the daily cycle of the solar zenith angle in the Netherlands  on 21 June (minumum zenith angle is about 35 $^\\circ$.<br>\n",
    "    \n",
    "3.2 Add a sketch of the relative air mass. <br>\n",
    "\n",
    "3.3 How is the relative air mass distributed over the day? <br>\n",
    "\n",
    "3.4 How does the minimum $m_r$ value change during the year? <br>\n",
    "\n",
    "3.5 Why is the value of $m_r$ always larger than 1? <br>\n",
    "</font>"
   ]
  },
  {
   "cell_type": "markdown",
   "metadata": {
    "slideshow": {
     "slide_type": "slide"
    }
   },
   "source": [
    "## 7. Radiative transfer formulation\n",
    "\n",
    "In section 6, you have learned that the radiation intensity in a direct beam decreases as a function of the optical thickness $\\tau$ and the air mass factor $1 / \\cos{\\theta}$. If we can relate the radiation intensity observed by the instrument to $\\tau$ and $1 / \\cos{\\theta}$, we can quantify the optical thickness. This would be a large step towards quantifying the amount of aerosol in the atmosphere. So let us try.\n",
    "\n",
    "Radiative transfer is efficiently described in the classical Lambert Beer's law:"
   ]
  },
  {
   "cell_type": "markdown",
   "metadata": {
    "slideshow": {
     "slide_type": "fragment"
    }
   },
   "source": [
    "<font size=\"5\">\n",
    "\\begin{equation}\n",
    "I_{\\lambda}(\\tau_\\lambda)  = I_\\lambda(0)  \\exp\\left(-\\tau_\\lambda \\cdot m_r \\right)\n",
    "\\end{equation}\n",
    "</font>\n"
   ]
  },
  {
   "cell_type": "markdown",
   "metadata": {},
   "source": [
    "This equation expresses that the radiation intensity $I$ for wavelength $\\lambda$ after being exposed to an air mass with optical thickness $\\tau_\\lambda$ equals the <i>initial</i> radiation intensity $I_\\lambda (0)$, at the top of the atmosphere, times an extinction coefficient $exp(...)$. The exctinction coefficient depends on the optical thickness of the air $\\tau_\\lambda$ and the air mass factor $1 / \\cos(\\theta)$.\n",
    "\n",
    "The equation above is basically all we need. However, it is a bit difficult to plot, because of the exponent. However, it is quite easy to turn it into a linear equation:"
   ]
  },
  {
   "cell_type": "markdown",
   "metadata": {},
   "source": [
    "<font size=\"5\">\n",
    "\\begin{equation}\n",
    "ln \\, I_{\\lambda}(\\tau_\\lambda) = ln \\, I_\\lambda(0) - \\tau_\\lambda \\cdot m_r\n",
    "\\end{equation}\n",
    "</font>\n",
    "\n"
   ]
  },
  {
   "cell_type": "markdown",
   "metadata": {},
   "source": [
    "This equation expresses a linear relationship (y = b + a $\\cdot$ x), between the relative air mass $m_r$ and the radiation intensity at the Earth's surface, which the instrument measures. This can be easily shown in a graph with $m_r$ on the x-axis and $ln \\, I_{\\lambda} (\\tau_\\lambda)$ on the y-axis. \n",
    "\n",
    "<figure>\n",
    "  <img src=\"LangleyPlot.png\">\n",
    "  <figcaption> <i>Figure 6. A hypothetical Langley plot. The x-axis shows the relative air mass $m_r$, the y-axis the $ln$ of the observed radiation. The optical thickness can be obtained from the slope of the line. The intercept ($m_r$ = 0) shows the radiation intensity at the top of the atmosphere.</i></figcaption>\n",
    "</figure>\n",
    "\n",
    "So, according to theory, you now have a relation between the observed radiation intensity $I_\\lambda$ and the air mass factor $m_r$. You have many observations per day (one per minute), so you can solve for the unknowns $\\tau_\\lambda$ and $ln \\, I( 0 )$ (which is not of interest).\n",
    "\n",
    "Let us try it.\n",
    "\n",
    "We created a python interface to create the Langley plots, see the Python cell below.\n",
    "\n",
    "- Activate the cell by clicking < SHIFT > + < ENTER >.\n",
    "- Choose the correct day.\n",
    "- select representation: 'slopes'\n",
    "- select the wavelengths you want to show\n",
    "- select morning or afternoon.\n",
    "\n",
    "\n"
   ]
  },
  {
   "cell_type": "code",
   "execution_count": 2,
   "metadata": {},
   "outputs": [
    {
     "name": "stderr",
     "output_type": "stream",
     "text": [
      "/opt/conda/lib/python3.6/site-packages/IPython/html.py:14: ShimWarning: The `IPython.html` package has been deprecated since IPython 4.0. You should import from `notebook` instead. `IPython.html.widgets` has moved to `ipywidgets`.\n",
      "  \"`IPython.html.widgets` has moved to `ipywidgets`.\", ShimWarning)\n"
     ]
    },
    {
     "data": {
      "application/vnd.jupyter.widget-view+json": {
       "model_id": "512db6edc7794b34a0f8f282b1e08c01",
       "version_major": 2,
       "version_minor": 0
      },
      "text/plain": [
       "interactive(children=(Dropdown(description='filename', options=('DATA/020109.dat.SPUV', 'DATA/020113.dat.SPUV'…"
      ]
     },
     "metadata": {},
     "output_type": "display_data"
    }
   ],
   "source": [
    "%matplotlib inline\n",
    "#load program to plot:\n",
    "from aerosol_prog import *\n",
    "from langley_prog import *\n",
    "\n",
    "ael = langley_prog()"
   ]
  },
  {
   "cell_type": "markdown",
   "metadata": {},
   "source": [
    "## <font color=\"red\">Exercise 4</font>\n",
    "<font color=\"red\">\n",
    "\n",
    "4.1 The figure shows data observed at different times of the day. On what side of the figure do you see the midday observations? And on what side the early morning or late evening observations?\n",
    "\n",
    "4.2 What is the effect of clouds in a Langley plot? Which data are more useful for analysis, morning or afternoon data?<br>\n",
    "\n",
    "4.3 Modify the settings of mmin and mmax (the minimum and maximum values of $m_r$ on the x-axis) in such a way that you omit the cloud affected data.<br>\n",
    "\n",
    "4.4 Compare the resulting lines with the hypothetical lines in Figure 6. If we assume that the air mass factor changes much faster than the optical thickness, the slope should be constant throughout the day, i.e. the data form a straight line. Does the method look promising? Explain your answer?<br>\n",
    "\n",
    "4.5 How do the slopes vary as a function of the wavelength?<br>\n",
    "\n",
    "</font>\n",
    "\n",
    "\n",
    "The next step is  to determine the slopes (= optical thickness) at various wavelengths. If you select 'representation': 'Langley slope' the program will automatically determine the slope of the ‘straight’ line. The value of the slope is the optical thickness $\\tau$. However, there is an issue with clouds! The least squares fit that is made, will consider also the optical effects of the clouds. So, it is important that you select (short) periods in which the cloud effects can be ignored. This can be done by using the sliders mmin and mmax. Since the slopes vary considerably with wavelength, it is better to select one wavelength at a time.\n",
    "\n",
    "## <font color=\"red\">Exercise 5</font>\n",
    "<font color=\"red\">\n",
    "\n",
    "5.1 Make a table in Excel or Google Spreadsheets, similar to table 1. Leave space for a few more columns. Fill out the optical thicknesses you derived from the Langley plots.\n",
    "\n",
    "5.2 Clouds are often a disturbing factor here, which cause an uncertainty in the obtained optical thickneses. Change the mmin and mmax somewhat. How much do the optical thicknesses change? Express it as a percentage of the 'best' value. This is a good indication of the relative uncertainty. <br>\n",
    "</font>\n",
    "\n",
    "<table>\n",
    "  <caption>Table 1. Optical thickness obtained from Langley plots for day 2002 - ____ - ____. </caption>\n",
    "<col width=\"90\">    \n",
    "<col width=\"90\">    \n",
    "<col width=\"90\">    \n",
    "<col width=\"90\">    \n",
    "<col width=\"90\">    \n",
    "<tr>\n",
    "<th>$\\lambda$ <br> (nm) </th>\n",
    "<th>$\\tau_{\\lambda,morning}$    <br> (-)  </th>\n",
    "<th>$\\tau_{\\lambda,afternoon}$  <br> (-)  </th>\n",
    "<th></th>\n",
    "<th></th>\n",
    "<th></th>\n",
    "</tr>\n",
    "<tr>\n",
    "<td>368.5</td>\n",
    "<td></td>\n",
    "<td></td>\n",
    "<td></td>\n",
    "<td></td>\n",
    "</tr>\n",
    "<tr>\n",
    "<td>501.4</td>\n",
    "<td></td>\n",
    "<td></td>\n",
    "<td></td>\n",
    "<td></td>\n",
    "</tr>\n",
    "<tr>\n",
    "<td>674.6</td>\n",
    "<td></td>\n",
    "<td></td>\n",
    "<td></td>\n",
    "<td></td>\n",
    "</tr>\n",
    "<tr>\n",
    "<td>780.4</td>\n",
    "<td></td>\n",
    "<td></td>\n",
    "<td></td>\n",
    "<td></td>\n",
    "</tr>\n",
    "<tr>\n",
    "<td>871.2</td>\n",
    "<td></td>\n",
    "<td></td>\n",
    "<td></td>\n",
    "<td></td>\n",
    "</tr>\n",
    "<tr>\n",
    "<td>938.9</td>\n",
    "<td> </td>\n",
    "<td> </td>\n",
    "<td></td>\n",
    "<td> </td>\n",
    "</tr>\n",
    "</table>\n",
    "\n"
   ]
  },
  {
   "cell_type": "markdown",
   "metadata": {},
   "source": [
    "## 8. From total optical thickness to aerosol optical thickness\n",
    "\n",
    "In section 5 and Fig. 3 it was explained that the optical thickness is a quantity expressing the effect of several physical processes acting on the radiation in the direct beam of solar radiation:\n",
    "- Absorption of radiation by ozone (predominantly in the (ultra)violet wavelengths\n",
    "- Rayleigh scattering (more effective for shorter wavelengths)\n",
    "- Mie scattering by aerosol\n",
    "- Reflection and scattering by clouds\n",
    "\n",
    "So, if you want to use the optical thicknesses ($\\tau_\\lambda$) in table 1 to quantify the effect of aerosol, you will have to account for the other effects. Fortunately, the effects of the processes above can also be expressed in terms of optical thicknesses AND the total optical thickness $\\tau$ is simply the sum of the partial optical thicknesses:\n",
    "\n",
    "<font size=\"5\">\n",
    "\\begin{equation}\n",
    "\\tau_\\lambda = \\tau_{\\lambda,O_3} + \\tau_{\\lambda,Rayleigh} + \\tau_{\\lambda,Aerosol}\n",
    "\\end{equation}\n",
    "</font>\n",
    "\n",
    "\n",
    "### 8.1 Ozone absorption\n",
    "Ozone is an efficient absorber of UV radiation (consider the effect of the hole in the ozone layer). But it has a few, weak, absorption bands in the visible part of the spectrum too. This causes the optical thickness $\\tau_{\\lambda,O_3}$ to be non-zero. The actual values obviously depend on the amount of ozone in the atmosphere at the location and time of interest. However, we can also work with climatological values, which are given in table 2.\n",
    "\n",
    "\n",
    "\n",
    "## <font color=\"red\"> Exercise 5 (Continued)</font>\n",
    "<font color=\"red\">\n",
    "5.3 Enter the values of $\\tau_{\\lambda,O_3}$ in your own version of table 1.\n",
    "     \n",
    "    \n",
    "</font>\n"
   ]
  },
  {
   "cell_type": "markdown",
   "metadata": {
    "slideshow": {
     "slide_type": "slide"
    }
   },
   "source": [
    "<table>\n",
    "  <caption>Table 2: Ozone absorption and Rayleigh optical depth for the various wavelengths of the SPUV instrument (calculated at sea level and standard ozone column).\n",
    "</caption>\n",
    "<tr>\n",
    "<th>Wavelength λ (nm)</th>\n",
    "<th>Ozone absorption optical depth τ$_{O3}$(-)</th>\n",
    "<th>Rayleigh optical depth τ$_{Rayleigh}$(-)</th>\n",
    "</tr>\n",
    "<tr>\n",
    "<td>368.5</td>\n",
    "<td>0.00008</td>\n",
    "<td>0.50868</td>\n",
    "</tr>\n",
    "<tr>\n",
    "<td>501.4</td>\n",
    "<td>0.01191</td>\n",
    "<td>0.14205</td>\n",
    "</tr>\n",
    "<tr>\n",
    "<td>674.6</td>\n",
    "<td>0.01388</td>\n",
    "<td>0.04242</td>\n",
    "</tr>\n",
    "<tr>\n",
    "<td>780.4</td>\n",
    "<td>0.00255</td>\n",
    "<td>0.02352</td>\n",
    "</tr>\n",
    "<tr>\n",
    "<td>871.2</td>\n",
    "<td>0.00000</td>\n",
    "<td>0.01508</td>\n",
    "</tr>\n",
    "<tr>\n",
    "<td>938.9</td>\n",
    "<td>0.00000</td>\n",
    "<td>0.01106</td>\n",
    "</tr>\n",
    "</table>"
   ]
  },
  {
   "cell_type": "markdown",
   "metadata": {},
   "source": [
    "### 8.2 Rayleigh scattering\n",
    "The optical thickness due to Rayleigh scattering is primarily dependent on the wavelength of the radiation: $\\tau_{Rayleigh}$ is proportional to $1 / \\lambda^4$.\n",
    "\n",
    "<figure>\n",
    "  <img src=\"RayleighScattering.png\">\n",
    "  <figcaption> <i>Figure 7. Optical thickness due to Rayleigh scattering as a function of wavelength.</i></figcaption>\n",
    "</figure>\n",
    "\n",
    "\n",
    "Additionallym the Rayleigh scattering depends on the number of air molecules in the column of air, which varies with the air pressure. For precise calculations, the variations in air pressure with the passage of high and low pressure systems should be accounted for, as the air pressure may vary as much as 10% to 20% in extreme situations. However, for the sake of simplicity, we will use values for $\\tau_{Rayleigh}$ derived for a standard atmosphere. Table 2 lists these values too.\n",
    "\n",
    "## <font color=\"red\"> Exercise 5 (Continued)</font>\n",
    "<font color=\"red\">\n",
    "5.4 Enter the values of $\\tau_{\\lambda,Rayleigh}$ in your own version of table 1 too.<br>\n",
    "   \n",
    "5.5 You can now calculate the aerosol optical thickness $\\tau_{\\lambda,aerosol}$ too using the equation above. Do this for the morning and the afternoon. \n",
    "   \n",
    "5.6 How large are the optical thicknesses due to $O_3$ absorption, Rayleigh scattering and Aerosol relative to the total $\\tau$?\n",
    "\n",
    "5.7 What is the difference between morning and afternoon aerosol optical thickness? Can you explain?\n",
    "\n",
    "</font>\n"
   ]
  },
  {
   "cell_type": "markdown",
   "metadata": {
    "slideshow": {
     "slide_type": "slide"
    }
   },
   "source": [
    "### 8.3 Deriving the Ångstrom coefficient α \n",
    "Since measurements are available at various wavelengths, it is possible to investigate the relation between wavelength and aerosol optical depth. In the introduction it was argued that large aerosol particles behave more like ‘white’ objects, which means that the optical depth depends only weakly on wavelength. Small particles show a larger wavelength dependency of the aerosol optical depth. A way to express the wavelength dependency of the aerosol optical depth is through the Ångstrom coefficient α:\n",
    "\n",
    "\\begin{equation}\n",
    "\\tau_{aerosol}(\\lambda) = \\beta \\, \\lambda^{-\\alpha}\n",
    "\\end{equation}\n",
    "\n",
    "taking the natural logarithm, again to linearise the relationship:\n",
    "\n",
    "\\begin{equation}\n",
    "\\ln(\\tau_a(\\lambda)) = \\ln(\\beta) - \\alpha \\ln(\\lambda)\n",
    "\\end{equation}\n",
    "\n",
    "This equation implies that the $ln$ of the aerosol optical thickness is a linear function of the $ln$ wavelength. The slope of the line equals $-\\alpha$. By plotting the relationship between $\\ln \\tau_{aerosol}$ and $\\ln \\lambda$ we can thus derive the Ångstrom coefficient α.\n",
    "\n",
    "α is typically 1.3. Large aerosol particles have α < 1.3 and small aerosol particles have α > 1.3.\n",
    "\n",
    "You can make the Ångstrom plot with the python code below:\n"
   ]
  },
  {
   "cell_type": "code",
   "execution_count": 8,
   "metadata": {
    "scrolled": false,
    "slideshow": {
     "slide_type": "slide"
    }
   },
   "outputs": [
    {
     "name": "stdout",
     "output_type": "stream",
     "text": [
      "Analysis for DATA/020711.dat.SPUV morning\n",
      "Analysis for DATA/020711.dat.SPUV morning\n"
     ]
    },
    {
     "data": {
      "text/plain": [
       "Text(0,0.5,'Aerosol Optical Thickness')"
      ]
     },
     "execution_count": 8,
     "metadata": {},
     "output_type": "execute_result"
    },
    {
     "data": {
      "image/png": "[encoded data removed]",
      "text/plain": [
       "<Figure size 432x288 with 1 Axes>"
      ]
     },
     "metadata": {},
     "output_type": "display_data"
    }
   ],
   "source": [
    "from ListTable import *\n",
    "# ttot--> should be the -slope of the Langley plots at the different wavelength   \n",
    "# repeat for morning and afternoon:\n",
    "ttot = -ael.slopes\n",
    "   \n",
    "wls = array([368,501,670,780,870,940])\n",
    "to3 = array([0.00008,0.01191,0.01388,0.00255,0.0000,0.0000])\n",
    "tra = array([0.50868,0.14205,0.04242,0.02352,0.01508,0.01106])\n",
    "aot = ttot-to3-tra\n",
    "\n",
    "# plot AOT vs. Wavelenght:\n",
    "print('Analysis for '+ael.title+' '+ael.dayfraction)\n",
    "f,ax = subplots()\n",
    "ax.plot(wls,aot,'ro-',label=ael.dayfraction)\n",
    "ax.set_title('AOT versus wavelength')\n",
    "ax.set_xlabel('$\\lambda$ (nm)')\n",
    "ax.set_ylabel('Aerosol Optical Thickness')\n"
   ]
  },
  {
   "cell_type": "markdown",
   "metadata": {},
   "source": [
    "## <font color=\"red\"> Exercise 5 (Continued)</font>\n",
    "<font color=\"red\">\n",
    "5.8 What do you observe? Why is the AOT larger for the shorter wavelengths? <br>\n",
    "    \n",
    "5.9 The aerosol optical thickness is often expressed as the one at 550 nm. Estimate the AOT at 550 nm by interpolation.<br>\n",
    "\n",
    "5.10 Guided by figure 2, why do you think 938.9 nm is an outlier?<br>\n",
    "\n",
    "5.11 Determine α, by leaving out 938.9 nm. (Use the python cell below). From the results, are the aerosols large or small? Is there a difference between morning and afternoon?\n",
    "\n",
    "5.12 Enter your AOT$_{550}$ and $\\alpha$ on the whiteboard and compare your results with results from other groups. \n",
    "</font>\n"
   ]
  },
  {
   "cell_type": "code",
   "execution_count": 9,
   "metadata": {
    "slideshow": {
     "slide_type": "slide"
    }
   },
   "outputs": [
    {
     "name": "stdout",
     "output_type": "stream",
     "text": [
      "Analysis for DATA/020711.dat.SPUV morning\n"
     ]
    },
    {
     "data": {
      "text/plain": [
       "<matplotlib.legend.Legend at 0x7fa95d3b4e80>"
      ]
     },
     "execution_count": 9,
     "metadata": {},
     "output_type": "execute_result"
    },
    {
     "data": {
      "image/png": "[encoded data removed]",
      "text/plain": [
       "<Figure size 432x288 with 1 Axes>"
      ]
     },
     "metadata": {},
     "output_type": "display_data"
    }
   ],
   "source": [
    "#small program to plot and fit ln(AOT) vs. ln(lambda), note that 940 nm is excluded:\n",
    "lnaot = log(aot[:5])\n",
    "lnl   = log(wls[:5])\n",
    "print('Analysis for '+ael.title+' '+ael.dayfraction)\n",
    "f,ax = subplots()\n",
    "ax.plot(lnl,lnaot,'ro')\n",
    "res = polyfit(lnl,lnaot,1)\n",
    "ax.plot(lnl,lnl*res[0]+res[1],'r-',label = 'y=%6.3fx + %6.3f'%(res[0],res[1]))\n",
    "ax.set_title(\"Angstrom relation\")\n",
    "ax.set_xlabel('ln($\\lambda$)')\n",
    "ax.set_ylabel(\"ln(AOT)\")\n",
    "ax.legend(loc='best')"
   ]
  },
  {
   "cell_type": "markdown",
   "metadata": {
    "slideshow": {
     "slide_type": "slide"
    }
   },
   "source": [
    "## 9. Effect of meteorology\n",
    "\n",
    "In order to investigate the weather pattern on the day the SPUV measurements were taken, you will consult an archive of weather maps. \n",
    "- Go to: http://www.wetterzentrale.de/topkarten/fsavneur.html\n",
    "- Select archiv\n",
    "- Retrieve the 500hPa Geopot./Bodendruck map of the analysis day       \n",
    "       \n",
    "## <font color=\"red\"> Exercise 6 </font>\n",
    "<font color=\"red\">\n",
    "6.1 Estimate the wind direction from the air pressure gradient (remember how the wind direction changes due to the rotation of the Earth)<br>\n",
    "\n",
    "6.2 Where is the wind speed large and where is it low? What can you say about the wind speed at the location of your measurements? <br>\n",
    "\n",
    "6.3 What is the origin of the air mass? Over what area was it transported in the past days?<br>\n",
    "\n",
    "6.4 Does this explain the observed value of the $\\tau_{aerosol}$ and the size parameter α? Compare your results to other groups.<br>\n",
    "\n",
    "6.5 The analyzed dataset is strongly biased towards clear cloudless days. In the Netherlands, this often means easterly winds. But winds from the north east bring clean polar air, while more southerly winds bring pollution from Germany and Belgian to the Netherlands. Is there a relation between the the observed AOT and specific weather patterns?  And are the particles smaller on dirty days (α > 1.3)?<br>\n",
    "</font>"
   ]
  },
  {
   "cell_type": "markdown",
   "metadata": {
    "slideshow": {
     "slide_type": "slide"
    }
   },
   "source": [
    "## 10. Outlook\n",
    "\n",
    "Congratulations! You have just derived a real remote sensing retrieval algorithm. Remote sensing is the science and art of finding relationships between radiation observations and things you want to know about the atmosphere or the Earth's surface. In this case you have derived a relationship between radiation coming in a direct beam from the sun and the aerosol optical thickness. \n",
    "\n",
    "\n",
    "## <font color=\"red\">Exercise 7: Reflection</font>\n",
    "<font color=\"red\">\n",
    "    \n",
    "7.1 List the steps you made from taking the measurements to deriving the AOT$_{550}$ and the Ångstrom coefficient $\\alpha$. \n",
    "\n",
    "7.2 Try to assign each step a relative uncertainty in percentage. You can estimate some of those by changing the data selection via mmin and mmax. How sensitive are your results to this selection? Use this as the relative uncertainty. For other steps, try to estimate the order of magnitude (is the uncertainty 0.1%, 1%, 10%, 100% or 1000%?).\n",
    "\n",
    "7.3 Which steps introduce the largest uncertainty? Do you think you could improve these steps somehow?\n",
    "\n",
    "7.4 Reflect on your personal performance. How did you work? What were your strong and weak points? What did you learn?\n",
    "</font>"
   ]
  },
  {
   "cell_type": "markdown",
   "metadata": {
    "slideshow": {
     "slide_type": "fragment"
    }
   },
   "source": [
    "##  References\n",
    "- Jacob, D. J. (1999), Introduction to Atmospheric Chemistry, 266 pp., Princeton University Press, Princeton, New Jersey.\n",
    "- Stephens, G. L. (1994), Remote Sensing of the Lower Atmosphere, An Introduction, 523 pp., Oxford University Press, New York.\f"
   ]
  }
 ],
 "metadata": {
  "kernelspec": {
   "display_name": "Python 3",
   "language": "python",
   "name": "python3"
  },
  "language_info": {
   "codemirror_mode": {
    "name": "ipython",
    "version": 3
   },
   "file_extension": ".py",
   "mimetype": "text/x-python",
   "name": "python",
   "nbconvert_exporter": "python",
   "pygments_lexer": "ipython3",
   "version": "3.6.3"
  }
 },
 "nbformat": 4,
 "nbformat_minor": 1
}
